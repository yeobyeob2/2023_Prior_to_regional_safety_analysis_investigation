{
 "cells": [
  {
   "cell_type": "code",
   "execution_count": 1,
   "id": "f30ed011",
   "metadata": {},
   "outputs": [],
   "source": [
    "import pandas as pd\n",
    "import matplotlib.pyplot as plt"
   ]
  },
  {
   "cell_type": "code",
   "execution_count": 2,
   "id": "66e7d042",
   "metadata": {},
   "outputs": [],
   "source": [
    "df1 = pd.read_csv('/Users/isang-yeob/Downloads/KP2020.csv', encoding='cp949') #데이터 불러오기\n",
    "vp_df_20 = df1.query('EVT_CL_CD == 215') #보이스피싱 사건만 필터링\n",
    "count_row_20 = len(vp_df_20) #2020년 보이스피싱 사고 건수"
   ]
  },
  {
   "cell_type": "code",
   "execution_count": 3,
   "id": "4e26c62b",
   "metadata": {
    "scrolled": true
   },
   "outputs": [
    {
     "name": "stderr",
     "output_type": "stream",
     "text": [
      "/var/folders/70/_t6jnr7s3_s60h0zhtk312fh0000gn/T/ipykernel_68970/1126517245.py:3: SettingWithCopyWarning: \n",
      "A value is trying to be set on a copy of a slice from a DataFrame.\n",
      "Try using .loc[row_indexer,col_indexer] = value instead\n",
      "\n",
      "See the caveats in the documentation: https://pandas.pydata.org/pandas-docs/stable/user_guide/indexing.html#returning-a-view-versus-a-copy\n",
      "  vp_df_21['year'] = vp_df_21['RECV_CPLT_DM'].apply(lambda x: str(x)[:2])\n"
     ]
    }
   ],
   "source": [
    "df2 = pd.read_csv('/Users/isang-yeob/Downloads/KP2021.csv', encoding='cp949')\n",
    "vp_df_21 = df2.query('EVT_CL_CD == 215') \n",
    "vp_df_21['year'] = vp_df_21['RECV_CPLT_DM'].apply(lambda x: str(x)[:2]) #연도 슬라이싱 \n",
    "vp_df_21 = vp_df_21.query('year.str.contains(\"21\")') #슬라이싱 한 연도 필터링\n",
    "count_row_21 = len(vp_df_21) #슬라이싱 한 연도 보이스피싱 사고 건수"
   ]
  },
  {
   "cell_type": "code",
   "execution_count": 4,
   "id": "f66be4e3",
   "metadata": {},
   "outputs": [
    {
     "name": "stderr",
     "output_type": "stream",
     "text": [
      "/var/folders/70/_t6jnr7s3_s60h0zhtk312fh0000gn/T/ipykernel_68970/1576942842.py:3: SettingWithCopyWarning: \n",
      "A value is trying to be set on a copy of a slice from a DataFrame.\n",
      "Try using .loc[row_indexer,col_indexer] = value instead\n",
      "\n",
      "See the caveats in the documentation: https://pandas.pydata.org/pandas-docs/stable/user_guide/indexing.html#returning-a-view-versus-a-copy\n",
      "  vp_df_22['year'] = vp_df_22['RECV_CPLT_DM'].apply(lambda x: str(x)[:2])\n"
     ]
    }
   ],
   "source": [
    "df3 = pd.read_csv('/Users/isang-yeob/Downloads/KP2021.csv', encoding='cp949')\n",
    "vp_df_22 = df3.query('EVT_CL_CD == 215') \n",
    "vp_df_22['year'] = vp_df_22['RECV_CPLT_DM'].apply(lambda x: str(x)[:2])\n",
    "vp_df_22 = vp_df_22.query('year.str.contains(\"22\")')\n",
    "count_row_22 = len(vp_df_22)"
   ]
  },
  {
   "cell_type": "code",
   "execution_count": 5,
   "id": "0f9a18de",
   "metadata": {},
   "outputs": [
    {
     "data": {
      "text/plain": [
       "1660"
      ]
     },
     "execution_count": 5,
     "metadata": {},
     "output_type": "execute_result"
    }
   ],
   "source": [
    "count_row_20"
   ]
  },
  {
   "cell_type": "code",
   "execution_count": 6,
   "id": "7d795d42",
   "metadata": {},
   "outputs": [
    {
     "data": {
      "text/plain": [
       "17325"
      ]
     },
     "execution_count": 6,
     "metadata": {},
     "output_type": "execute_result"
    }
   ],
   "source": [
    "count_row_21"
   ]
  },
  {
   "cell_type": "code",
   "execution_count": 7,
   "id": "69a38e24",
   "metadata": {},
   "outputs": [
    {
     "data": {
      "text/plain": [
       "15950"
      ]
     },
     "execution_count": 7,
     "metadata": {},
     "output_type": "execute_result"
    }
   ],
   "source": [
    "count_row_22"
   ]
  },
  {
   "cell_type": "code",
   "execution_count": 8,
   "id": "a52ab289",
   "metadata": {},
   "outputs": [],
   "source": [
    "x = ['2020','2021','2022']\n",
    "data = [count_row_20, count_row_21, count_row_22]"
   ]
  },
  {
   "cell_type": "code",
   "execution_count": 9,
   "id": "5fe20fa9",
   "metadata": {},
   "outputs": [
    {
     "data": {
      "text/plain": [
       "<BarContainer object of 3 artists>"
      ]
     },
     "execution_count": 9,
     "metadata": {},
     "output_type": "execute_result"
    },
    {
     "data": {
      "image/png": "[encoded data removed]",
      "text/plain": [
       "<Figure size 432x288 with 1 Axes>"
      ]
     },
     "metadata": {
      "needs_background": "light"
     },
     "output_type": "display_data"
    }
   ],
   "source": [
    "plt.bar(x,data)"
   ]
  },
  {
   "cell_type": "code",
   "execution_count": null,
   "id": "96d734d3",
   "metadata": {},
   "outputs": [],
   "source": [
    "\n"
   ]
  }
 ],
 "metadata": {
  "kernelspec": {
   "display_name": "Python 3 (ipykernel)",
   "language": "python",
   "name": "python3"
  },
  "language_info": {
   "codemirror_mode": {
    "name": "ipython",
    "version": 3
   },
   "file_extension": ".py",
   "mimetype": "text/x-python",
   "name": "python",
   "nbconvert_exporter": "python",
   "pygments_lexer": "ipython3",
   "version": "3.9.12"
  }
 },
 "nbformat": 4,
 "nbformat_minor": 5
}
